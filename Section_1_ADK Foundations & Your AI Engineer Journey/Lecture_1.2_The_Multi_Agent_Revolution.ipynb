{
 "cells": [
  {
   "cell_type": "markdown",
   "id": "29f6728d",
   "metadata": {},
   "source": [
    "# What Are AI Agents?\n",
    "\n",
    "Welcome to the second lecture!"
   ]
  },
  {
   "cell_type": "markdown",
   "id": "14fb0e5c",
   "metadata": {},
   "source": [
    "## 🤖 Definition of an AI Agent\n",
    "\n",
    "An **AI agent** is a system that can **perceive**, **decide**, and **act** in an environment to achieve specific goals."
   ]
  },
  {
   "cell_type": "markdown",
   "id": "0d1cef02",
   "metadata": {},
   "source": [
    "## 💡 Why Agents Matter\n",
    "\n",
    "Unlike traditional software, agents can:\n",
    "- Think before acting\n",
    "- Adapt their behavior\n",
    "- Use tools (APIs, databases)\n",
    "- Collaborate with other agents"
   ]
  },
  {
   "cell_type": "markdown",
   "id": "8f80150f",
   "metadata": {},
   "source": [
    "## 🧠 Key Characteristics\n",
    "\n",
    "An AI agent typically includes:\n",
    "- **Context awareness**\n",
    "- **Goal orientation**\n",
    "- **Decision-making abilities**\n",
    "- **Tool usage**\n",
    "- **Reflection and learning**"
   ]
  },
  {
   "cell_type": "markdown",
   "id": "4d7bd21c",
   "metadata": {},
   "source": [
    "## 🔍 Real-World Examples\n",
    "\n",
    "Some real-world use cases:\n",
    "- Customer support bots\n",
    "- Document analyzers\n",
    "- Financial research assistants\n",
    "- Healthcare triage agents"
   ]
  },
  {
   "cell_type": "markdown",
   "id": "aa4ad648",
   "metadata": {},
   "source": [
    "## 🚀 Next Steps\n",
    "\n",
    "Now that you know what AI agents are, in the next lecture we'll:\n",
    "- Set up your ADK environment\n",
    "- Create your first agent"
   ]
  },
  {
   "cell_type": "markdown",
   "id": "3e1650b5",
   "metadata": {},
   "source": [
    "> 📘 Up Next: [03-environment-setup.ipynb](03-environment-setup.ipynb)"
   ]
  }
 ],
 "metadata": {},
 "nbformat": 4,
 "nbformat_minor": 5
}
