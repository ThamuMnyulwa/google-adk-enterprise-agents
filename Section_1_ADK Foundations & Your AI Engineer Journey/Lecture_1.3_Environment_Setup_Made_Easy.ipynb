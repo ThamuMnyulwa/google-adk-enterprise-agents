{
 "cells": [
  {
   "cell_type": "markdown",
   "id": "80bffbae",
   "metadata": {},
   "source": [
    "# 🛠️ Environment Setup Made Easy\n",
    "This notebook follows Lecture 1.3 of the Google ADK course. We'll walk you through setting up your development environment step-by-step."
   ]
  },
  {
   "cell_type": "markdown",
   "id": "454da7e1",
   "metadata": {},
   "source": [
    "## ✅ Tools You'll Need\n",
    "- Python 3.9 or higher\n",
    "- Visual Studio Code (VS Code)\n",
    "- Google ADK (installed via `requirements.txt`)\n",
    "- Google API Key (via Google AI Studio)\n",
    "\n",
    "Optional:\n",
    "- Docker Desktop (for deployment lectures)\n",
    "- Git + GitHub (for version control and repo sync)"
   ]
  },
  {
   "cell_type": "markdown",
   "id": "aaac060a",
   "metadata": {},
   "source": [
    "\n",
    "### 🐍 Step 1: Install Python\n",
    "\n",
    "For Langflow to work correctly, make sure you're using Python 3.11 (Langflow currently has compatibility issues with Python 3.12).\n",
    "\n",
    "📥 Download Python 3.11:\n",
    "https://www.python.org/downloads/release/python-3110/\n",
    "\n",
    "Make sure to check ✅ **Add Python to PATH** during installation!\n",
    "\n",
    "✅ After installing, verify with:"
   ]
  },
  {
   "cell_type": "code",
   "execution_count": null,
   "id": "fdf9f57d",
   "metadata": {},
   "outputs": [],
   "source": [
    "# Check Python version\n",
    "!python --version"
   ]
  },
  {
   "cell_type": "markdown",
   "id": "e8672fb7",
   "metadata": {},
   "source": [
    "### 💻 Install VS Code\n",
    "Download from: https://code.visualstudio.com/\n",
    "Install the **Python Extension** by Microsoft after setup."
   ]
  },
  {
   "cell_type": "markdown",
   "id": "f921f472",
   "metadata": {},
   "source": [
    "## 🔒 Create Virtual Environment (Run in VS Code Terminal)\n",
    "In your terminal:\n",
    "```bash\n",
    "python -m venv venv\n",
    "```\n",
    "Then activate it:\n",
    "- **Windows**: `venv\\Scripts\\activate`\n",
    "- **Mac/Linux**: `source venv/bin/activate`\n",
    "\n",
    "You’ll know it’s activated if your terminal shows `(venv)`."
   ]
  },
  {
   "cell_type": "markdown",
   "id": "3aaf8e26",
   "metadata": {},
   "source": [
    "## 📦 Install Dependencies\n",
    "From your root project folder, run:\n",
    "```bash\n",
    "pip install -r requirements.txt\n",
    "```\n",
    "This installs **google-adk** and other dependencies listed in the course."
   ]
  },
  {
   "cell_type": "markdown",
   "id": "d8114d8b",
   "metadata": {},
   "source": [
    "## 🔑 Configure API Key\n",
    "Get your API key from: https://aistudio.google.com\n",
    "Then run:\n",
    "```bash\n",
    "cp .env.example .env\n",
    "```\n",
    "Open `.env` and paste your key:\n",
    "```bash\n",
    "GOOGLE_API_KEY=your-api-key-here\n",
    "```"
   ]
  },
  {
   "cell_type": "markdown",
   "id": "f429fb04",
   "metadata": {},
   "source": [
    "### 🛡️ .gitignore Setup\n",
    "Make sure your `.gitignore` includes:\n",
    "```bash\n",
    ".env\n",
    "venv/\n",
    "__pycache__/\n",
    "```\n",
    "This protects your secrets and keeps your repo clean."
   ]
  },
  {
   "cell_type": "markdown",
   "id": "15e713c2",
   "metadata": {},
   "source": [
    "## ✅ Verify Installation\n",
    "You can verify your ADK install with a small test file."
   ]
  },
  {
   "cell_type": "code",
   "execution_count": null,
   "id": "bc8c25ed",
   "metadata": {},
   "outputs": [],
   "source": [
    "from google.adk.agents import Agent\n",
    "import os\n",
    "from dotenv import load_dotenv\n",
    "\n",
    "load_dotenv()\n",
    "\n",
    "agent = Agent(\n",
    "    name=\"test\",\n",
    "    model=\"gemini-1.5-flash\",\n",
    "    instructions=\"You are a helpful assistant.\"\n",
    ")\n",
    "\n",
    "response = agent.run(\"Say hello!\")\n",
    "print(response)"
   ]
  },
  {
   "cell_type": "markdown",
   "id": "d97d48da",
   "metadata": {},
   "source": [
    "### 🧯 Common Issues\n",
    "- `'pip' not found`: Restart terminal\n",
    "- `No API key`: Check `.env` file path and content\n",
    "- `ImportError`: Activate your virtual environment"
   ]
  },
  {
   "cell_type": "markdown",
   "id": "4d597337",
   "metadata": {},
   "source": [
    "## 🎉 You're All Set!\n",
    "You’ve now:\n",
    "- Set up a clean Python environment\n",
    "- Installed dependencies from `requirements.txt`\n",
    "- Safely added your API key\n",
    "- Verified everything works\n",
    "\n",
    "Next up: **Build your first agent!**"
   ]
  }
 ],
 "metadata": {
  "language_info": {
   "name": "python"
  }
 },
 "nbformat": 4,
 "nbformat_minor": 5
}
