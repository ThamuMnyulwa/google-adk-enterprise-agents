{
 "cells": [
  {
   "cell_type": "markdown",
   "id": "2797ea36",
   "metadata": {},
   "source": [
    "# Welcome to Google ADK Mastery! 🚀\n",
    "\n",
    "## Your Journey to Becoming an AI Agent Developer Starts Here\n",
    "\n",
    "Welcome! I'm Pragati, and I'm thrilled to be your guide on this exciting journey into the world of AI agents using Google's Agent Development Kit (ADK).\n",
    "\n",
    "After 20+ years building enterprise systems at companies like IBM, I've seen technology evolve dramatically. But nothing excites me more than what we're about to explore together - **building intelligent AI agents that can think, use tools, and collaborate to solve complex problems**.\n"
   ]
  },
  {
   "cell_type": "markdown",
   "id": "02508370",
   "metadata": {},
   "source": [
    "## 👩‍💻 About Your Instructor\n",
    "\n",
    "- **20+ years** in enterprise software development  \n",
    "- **Senior Engineering Leader** specializing in AI/ML systems  \n",
    "- Built production systems at **IBM Software Labs** \n",
    "- Creator of **\"AI Agents Bootcamp\"** (Udemy Business)  \n",
    "- Passionate about making complex technology accessible\n",
    "\n",
    "But enough about me - this course is about **YOU** and your transformation into an AI agent developer!\n"
   ]
  },
  {
   "cell_type": "markdown",
   "id": "4c6ac8d9",
   "metadata": {},
   "source": [
    "## 🎯 What Makes This Course Special?\n",
    "\n",
    "### 1. **Complete, Working Code**  \n",
    "No pseudo-code or incomplete snippets. Every example is production-ready and tested.\n",
    "\n",
    "### 2. **Real-World Projects**  \n",
    "We build 8 systems that solve actual business problems:  \n",
    "- Customer service automation  \n",
    "- Document processing pipelines  \n",
    "- Financial analysis bots  \n",
    "- And much more!\n",
    "\n",
    "### 3. **Zero Cost to Learn**  \n",
    "Everything uses FREE tools:  \n",
    "- Google AI Studio (free tier)  \n",
    "- Open source software  \n",
    "- No hidden subscriptions\n",
    "\n",
    "### 4. **Production-Ready Skills**  \n",
    "Learn patterns used by companies like Renault, Box, and Google itself!\n"
   ]
  },
  {
   "cell_type": "markdown",
   "id": "fb391212",
   "metadata": {},
   "source": [
    "## 🗺️ Your Learning Path\n",
    "\n",
    "Here's how we'll progress through the course:\n",
    "\n",
    "![Learning Path](../assets/learning-path.png)\n",
    "\n",
    "### Section Breakdown:\n",
    "\n",
    "1. **Welcome & Quick Start** (You are here!)  \n",
    "2. **ADK Setup & Basics** – Your first agent in 30 minutes  \n",
    "3. **Agent Architecture** – How agents really work  \n",
    "4. **Tools & Actions** – Extending agent capabilities  \n",
    "5. **Agent Communication** – Multi-agent orchestration  \n",
    "6. **Database & API Integration** – Real-world connections  \n",
    "7. **Docker & Deployment** – Production-ready systems  \n",
    "8. **Business Projects** – Complete applications  \n",
    "9. **Capstone & Beyond** – Your masterpiece\n"
   ]
  },
  {
   "cell_type": "markdown",
   "id": "9904de23",
   "metadata": {},
   "source": [
    "## 💻 How This Course Works\n",
    "\n",
    "### Interactive Jupyter Notebooks  \n",
    "You're reading one right now! These notebooks combine:  \n",
    "- **Explanations** – Clear, detailed theory  \n",
    "- **Live Code** – Run it yourself  \n",
    "- **Exercises** – Practice immediately  \n",
    "- **Solutions** – Check your work\n"
   ]
  },
  {
   "cell_type": "markdown",
   "id": "df791fe8",
   "metadata": {},
   "source": [
    "## 🎯 What You'll Achieve\n",
    "\n",
    "By the end of this course, you'll be able to:\n",
    "\n",
    "### Build Intelligent Agents That:  \n",
    "- 🤖 **Think** – Make decisions based on context  \n",
    "- 🔧 **Use Tools** – Connect to APIs, databases, and services  \n",
    "- 👥 **Collaborate** – Work together in multi-agent teams  \n",
    "- 📈 **Scale** – Handle production workloads\n",
    "\n",
    "### Create Systems That:  \n",
    "- 💬 Handle customer service conversations  \n",
    "- 📄 Process and analyze documents  \n",
    "- 📊 Generate insights from data  \n",
    "- 🚀 Automate complex workflows  \n",
    "- 💡 Solve real business problems\n",
    "\n",
    "### Master Skills Worth:  \n",
    "- 💰 **$150K–$250K** average salaries  \n",
    "- 📈 **$200–$500/hour** consulting rates  \n",
    "- 🌟 **Future-proof** career growth\n"
   ]
  },
  {
   "cell_type": "markdown",
   "id": "978c1a08",
   "metadata": {},
   "source": [
    "## 🤝 Learning Together\n",
    "\n",
    "You're not alone on this journey! Here's how we'll support each other:\n",
    "\n",
    "### 1. **Active Q&A**  \n",
    "- Post questions anytime  \n",
    "- I personally respond within 24 hours  \n",
    "- Learn from other students' questions\n",
    "\n",
    "### 2. **Community Projects**  \n",
    "- Share what you build  \n",
    "- Get feedback and ideas  \n",
    "- Collaborate on bigger projects\n",
    "\n",
    "### 3. **Regular Updates**  \n",
    "- New content as ADK evolves  \n",
    "- Industry best practices  \n",
    "- Advanced techniques\n",
    "\n",
    "### 4. **Office Hours** (Monthly)  \n",
    "- Live Q&A sessions  \n",
    "- Code reviews  \n",
    "- Career guidance\n"
   ]
  },
  {
   "cell_type": "markdown",
   "id": "3b5060ac",
   "metadata": {},
   "source": [
    "## 📝 Your First Exercise\n",
    "\n",
    "No coding yet! For now, just reflect on:\n",
    "\n",
    "- Who are you?  \n",
    "- Why are you taking this course?  \n",
    "- What do you want to build?\n",
    "\n",
    "We'll do our first code setup together in **Lecture 3**. You're in the right place!\n"
   ]
  },
  {
   "cell_type": "markdown",
   "id": "10df8939",
   "metadata": {},
   "source": [
    "## 🎬 Ready to Start?\n",
    "\n",
    "Congratulations on taking the first step! You're about to embark on an exciting journey that will transform how you think about AI and software development.\n",
    "\n",
    "### Your Next Steps:\n",
    "1. ✅ Complete this notebook  \n",
    "2. 📖 Move to `02-what-are-ai-agents.ipynb`  \n",
    "3. 🤔 Think about what YOU want to build  \n",
    "4. 💬 Share your introduction in the Q&A\n",
    "\n",
    "### Remember:\n",
    "- **Every expert was once a beginner**  \n",
    "- **Progress > Perfection**  \n",
    "- **Questions are welcome**  \n",
    "- **You've got this!**\n",
    "\n",
    "Let's build the future together! 🚀\n",
    "\n",
    "---\n",
    "\n",
    "**Next Notebook**: [02-what-are-ai-agents.ipynb](02-what-are-ai-agents.ipynb) →\n"
   ]
  }
 ],
 "metadata": {
  "language_info": {
   "name": "python"
  }
 },
 "nbformat": 4,
 "nbformat_minor": 5
}
