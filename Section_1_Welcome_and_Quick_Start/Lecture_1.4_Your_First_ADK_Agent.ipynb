{
 "cells": [
  {
   "cell_type": "markdown",
   "id": "124dc959",
   "metadata": {},
   "source": [
    "# Lecture 1.4: Your First ADK Agent"
   ]
  },
  {
   "cell_type": "markdown",
   "id": "28acacaf",
   "metadata": {},
   "source": [
    "Welcome to your first real hands-on experience with Google’s Agent Development Kit (ADK)!\n",
    "\n",
    "In this lecture, you’ll:\n",
    "- Understand the anatomy of an ADK agent\n",
    "- Create your first conversational agent\n",
    "- Run it with a Web UI\n",
    "- Understand how each part works\n",
    "\n",
    "Let’s dive in.\n"
   ]
  },
  {
   "cell_type": "markdown",
   "id": "07c219bc",
   "metadata": {},
   "source": [
    "## Step 1: Anatomy of an ADK Agent\n",
    "\n",
    "An ADK agent has a few key components:\n",
    "- **Name**: What you call the agent\n",
    "- **Model**: The language model powering it (e.g., `gemini-1.5-flash`)\n",
    "- **Instructions**: The role or behavior you assign\n",
    "\n",
    "Let’s see this in action.\n"
   ]
  },
  {
   "cell_type": "code",
   "execution_count": null,
   "id": "77f4bc0e",
   "metadata": {},
   "outputs": [],
   "source": [
    "from google.adk.agents import Agent\n",
    "import os\n",
    "from dotenv import load_dotenv\n",
    "\n",
    "load_dotenv()\n",
    "\n",
    "agent = Agent(\n",
    "    name=\"support-agent\",\n",
    "    model=\"gemini-1.5-flash\",\n",
    "    instructions=\"You are a friendly customer support agent who answers questions clearly.\"\n",
    ")\n"
   ]
  },
  {
   "cell_type": "markdown",
   "id": "50680ae0",
   "metadata": {},
   "source": [
    "### What just happened?\n",
    "- We created a simple agent with a name and behavior.\n",
    "- It uses the Gemini model.\n",
    "- It reads your API key securely using `.env`.\n",
    "\n",
    "Let’s run it!\n"
   ]
  },
  {
   "cell_type": "code",
   "execution_count": null,
   "id": "5b6161d5",
   "metadata": {},
   "outputs": [],
   "source": [
    "response = agent.run(\"What are your support hours?\")\n",
    "print(response)"
   ]
  },
  {
   "cell_type": "markdown",
   "id": "c48c1438",
   "metadata": {},
   "source": [
    "## Step 2: Run with Web UI\n",
    "\n",
    "Let’s try a more interactive experience using ADK’s built-in Web UI. This allows you to chat with your agent in a browser.\n",
    "\n",
    "Just run this cell:\n"
   ]
  },
  {
   "cell_type": "code",
   "execution_count": null,
   "id": "c86f4de1",
   "metadata": {},
   "outputs": [],
   "source": [
    "from google.adk.ui import WebUI\n",
    "\n",
    "web_ui = WebUI(agent)\n",
    "web_ui.launch()\n"
   ]
  },
  {
   "cell_type": "markdown",
   "id": "e480cec4",
   "metadata": {},
   "source": [
    "## Wrap-Up\n",
    "\n",
    "You’ve just built and deployed your first ADK agent—complete with Web UI interaction!\n",
    "\n",
    "In the next lecture, we’ll go deeper and introduce tools that give your agent even more superpowers.\n",
    "\n",
    "Save your work and let’s move forward!\n"
   ]
  }
 ],
 "metadata": {},
 "nbformat": 4,
 "nbformat_minor": 5
}
